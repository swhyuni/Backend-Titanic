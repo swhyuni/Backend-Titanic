{
  "cells": [
    {
      "cell_type": "markdown",
      "metadata": {
        "id": "uf5ldlW28PFv"
      },
      "source": [
        "# 1 - Perkenalan"
      ]
    },
    {
      "cell_type": "markdown",
      "metadata": {
        "id": "2zouuSOe8RWU"
      },
      "source": [
        "Nama : Sri Wahyuni\n",
        "\n",
        "Batch : FTDS-016-RMT\n",
        "\n",
        "Objective : Memprediksi passenger yang Survive atau Not Survive"
      ]
    },
    {
      "cell_type": "markdown",
      "metadata": {
        "id": "TyPEiuMD8fAM"
      },
      "source": [
        "# 2 - Import Libraries"
      ]
    },
    {
      "cell_type": "code",
      "execution_count": 1,
      "metadata": {
        "id": "_uawHzQN8CNf"
      },
      "outputs": [],
      "source": [
        "# Import Libraries\n",
        "\n",
        "import pandas as pd\n",
        "import numpy as np\n",
        "import joblib\n",
        "\n",
        "from sklearn.model_selection import train_test_split\n",
        "from sklearn.pipeline import make_pipeline\n",
        "from sklearn.compose import ColumnTransformer\n",
        "from sklearn.impute import SimpleImputer\n",
        "from sklearn.preprocessing import StandardScaler, OneHotEncoder"
      ]
    },
    {
      "cell_type": "markdown",
      "metadata": {
        "id": "HHfxlsMr9UT-"
      },
      "source": [
        "# 3 - Data Loading"
      ]
    },
    {
      "cell_type": "code",
      "execution_count": 2,
      "metadata": {
        "colab": {
          "base_uri": "https://localhost:8080/",
          "height": 424
        },
        "id": "FSG6GDFF9agt",
        "outputId": "cfe28904-95fd-49bf-81c9-be847f96d363"
      },
      "outputs": [
        {
          "data": {
            "text/html": [
              "<div>\n",
              "<style scoped>\n",
              "    .dataframe tbody tr th:only-of-type {\n",
              "        vertical-align: middle;\n",
              "    }\n",
              "\n",
              "    .dataframe tbody tr th {\n",
              "        vertical-align: top;\n",
              "    }\n",
              "\n",
              "    .dataframe thead th {\n",
              "        text-align: right;\n",
              "    }\n",
              "</style>\n",
              "<table border=\"1\" class=\"dataframe\">\n",
              "  <thead>\n",
              "    <tr style=\"text-align: right;\">\n",
              "      <th></th>\n",
              "      <th>PassengerId</th>\n",
              "      <th>Survived</th>\n",
              "      <th>Pclass</th>\n",
              "      <th>Name</th>\n",
              "      <th>Sex</th>\n",
              "      <th>Age</th>\n",
              "      <th>SibSp</th>\n",
              "      <th>Parch</th>\n",
              "      <th>Ticket</th>\n",
              "      <th>Fare</th>\n",
              "      <th>Cabin</th>\n",
              "      <th>Embarked</th>\n",
              "    </tr>\n",
              "  </thead>\n",
              "  <tbody>\n",
              "    <tr>\n",
              "      <th>0</th>\n",
              "      <td>1</td>\n",
              "      <td>0</td>\n",
              "      <td>3</td>\n",
              "      <td>Braund, Mr. Owen Harris</td>\n",
              "      <td>male</td>\n",
              "      <td>22.0</td>\n",
              "      <td>1</td>\n",
              "      <td>0</td>\n",
              "      <td>A/5 21171</td>\n",
              "      <td>7.2500</td>\n",
              "      <td>NaN</td>\n",
              "      <td>S</td>\n",
              "    </tr>\n",
              "    <tr>\n",
              "      <th>1</th>\n",
              "      <td>2</td>\n",
              "      <td>1</td>\n",
              "      <td>1</td>\n",
              "      <td>Cumings, Mrs. John Bradley (Florence Briggs Th...</td>\n",
              "      <td>female</td>\n",
              "      <td>38.0</td>\n",
              "      <td>1</td>\n",
              "      <td>0</td>\n",
              "      <td>PC 17599</td>\n",
              "      <td>71.2833</td>\n",
              "      <td>C85</td>\n",
              "      <td>C</td>\n",
              "    </tr>\n",
              "    <tr>\n",
              "      <th>2</th>\n",
              "      <td>3</td>\n",
              "      <td>1</td>\n",
              "      <td>3</td>\n",
              "      <td>Heikkinen, Miss. Laina</td>\n",
              "      <td>female</td>\n",
              "      <td>26.0</td>\n",
              "      <td>0</td>\n",
              "      <td>0</td>\n",
              "      <td>STON/O2. 3101282</td>\n",
              "      <td>7.9250</td>\n",
              "      <td>NaN</td>\n",
              "      <td>S</td>\n",
              "    </tr>\n",
              "    <tr>\n",
              "      <th>3</th>\n",
              "      <td>4</td>\n",
              "      <td>1</td>\n",
              "      <td>1</td>\n",
              "      <td>Futrelle, Mrs. Jacques Heath (Lily May Peel)</td>\n",
              "      <td>female</td>\n",
              "      <td>35.0</td>\n",
              "      <td>1</td>\n",
              "      <td>0</td>\n",
              "      <td>113803</td>\n",
              "      <td>53.1000</td>\n",
              "      <td>C123</td>\n",
              "      <td>S</td>\n",
              "    </tr>\n",
              "    <tr>\n",
              "      <th>4</th>\n",
              "      <td>5</td>\n",
              "      <td>0</td>\n",
              "      <td>3</td>\n",
              "      <td>Allen, Mr. William Henry</td>\n",
              "      <td>male</td>\n",
              "      <td>35.0</td>\n",
              "      <td>0</td>\n",
              "      <td>0</td>\n",
              "      <td>373450</td>\n",
              "      <td>8.0500</td>\n",
              "      <td>NaN</td>\n",
              "      <td>S</td>\n",
              "    </tr>\n",
              "    <tr>\n",
              "      <th>...</th>\n",
              "      <td>...</td>\n",
              "      <td>...</td>\n",
              "      <td>...</td>\n",
              "      <td>...</td>\n",
              "      <td>...</td>\n",
              "      <td>...</td>\n",
              "      <td>...</td>\n",
              "      <td>...</td>\n",
              "      <td>...</td>\n",
              "      <td>...</td>\n",
              "      <td>...</td>\n",
              "      <td>...</td>\n",
              "    </tr>\n",
              "    <tr>\n",
              "      <th>886</th>\n",
              "      <td>887</td>\n",
              "      <td>0</td>\n",
              "      <td>2</td>\n",
              "      <td>Montvila, Rev. Juozas</td>\n",
              "      <td>male</td>\n",
              "      <td>27.0</td>\n",
              "      <td>0</td>\n",
              "      <td>0</td>\n",
              "      <td>211536</td>\n",
              "      <td>13.0000</td>\n",
              "      <td>NaN</td>\n",
              "      <td>S</td>\n",
              "    </tr>\n",
              "    <tr>\n",
              "      <th>887</th>\n",
              "      <td>888</td>\n",
              "      <td>1</td>\n",
              "      <td>1</td>\n",
              "      <td>Graham, Miss. Margaret Edith</td>\n",
              "      <td>female</td>\n",
              "      <td>19.0</td>\n",
              "      <td>0</td>\n",
              "      <td>0</td>\n",
              "      <td>112053</td>\n",
              "      <td>30.0000</td>\n",
              "      <td>B42</td>\n",
              "      <td>S</td>\n",
              "    </tr>\n",
              "    <tr>\n",
              "      <th>888</th>\n",
              "      <td>889</td>\n",
              "      <td>0</td>\n",
              "      <td>3</td>\n",
              "      <td>Johnston, Miss. Catherine Helen \"Carrie\"</td>\n",
              "      <td>female</td>\n",
              "      <td>NaN</td>\n",
              "      <td>1</td>\n",
              "      <td>2</td>\n",
              "      <td>W./C. 6607</td>\n",
              "      <td>23.4500</td>\n",
              "      <td>NaN</td>\n",
              "      <td>S</td>\n",
              "    </tr>\n",
              "    <tr>\n",
              "      <th>889</th>\n",
              "      <td>890</td>\n",
              "      <td>1</td>\n",
              "      <td>1</td>\n",
              "      <td>Behr, Mr. Karl Howell</td>\n",
              "      <td>male</td>\n",
              "      <td>26.0</td>\n",
              "      <td>0</td>\n",
              "      <td>0</td>\n",
              "      <td>111369</td>\n",
              "      <td>30.0000</td>\n",
              "      <td>C148</td>\n",
              "      <td>C</td>\n",
              "    </tr>\n",
              "    <tr>\n",
              "      <th>890</th>\n",
              "      <td>891</td>\n",
              "      <td>0</td>\n",
              "      <td>3</td>\n",
              "      <td>Dooley, Mr. Patrick</td>\n",
              "      <td>male</td>\n",
              "      <td>32.0</td>\n",
              "      <td>0</td>\n",
              "      <td>0</td>\n",
              "      <td>370376</td>\n",
              "      <td>7.7500</td>\n",
              "      <td>NaN</td>\n",
              "      <td>Q</td>\n",
              "    </tr>\n",
              "  </tbody>\n",
              "</table>\n",
              "<p>891 rows × 12 columns</p>\n",
              "</div>"
            ],
            "text/plain": [
              "     PassengerId  Survived  Pclass   \n",
              "0              1         0       3  \\\n",
              "1              2         1       1   \n",
              "2              3         1       3   \n",
              "3              4         1       1   \n",
              "4              5         0       3   \n",
              "..           ...       ...     ...   \n",
              "886          887         0       2   \n",
              "887          888         1       1   \n",
              "888          889         0       3   \n",
              "889          890         1       1   \n",
              "890          891         0       3   \n",
              "\n",
              "                                                  Name     Sex   Age  SibSp   \n",
              "0                              Braund, Mr. Owen Harris    male  22.0      1  \\\n",
              "1    Cumings, Mrs. John Bradley (Florence Briggs Th...  female  38.0      1   \n",
              "2                               Heikkinen, Miss. Laina  female  26.0      0   \n",
              "3         Futrelle, Mrs. Jacques Heath (Lily May Peel)  female  35.0      1   \n",
              "4                             Allen, Mr. William Henry    male  35.0      0   \n",
              "..                                                 ...     ...   ...    ...   \n",
              "886                              Montvila, Rev. Juozas    male  27.0      0   \n",
              "887                       Graham, Miss. Margaret Edith  female  19.0      0   \n",
              "888           Johnston, Miss. Catherine Helen \"Carrie\"  female   NaN      1   \n",
              "889                              Behr, Mr. Karl Howell    male  26.0      0   \n",
              "890                                Dooley, Mr. Patrick    male  32.0      0   \n",
              "\n",
              "     Parch            Ticket     Fare Cabin Embarked  \n",
              "0        0         A/5 21171   7.2500   NaN        S  \n",
              "1        0          PC 17599  71.2833   C85        C  \n",
              "2        0  STON/O2. 3101282   7.9250   NaN        S  \n",
              "3        0            113803  53.1000  C123        S  \n",
              "4        0            373450   8.0500   NaN        S  \n",
              "..     ...               ...      ...   ...      ...  \n",
              "886      0            211536  13.0000   NaN        S  \n",
              "887      0            112053  30.0000   B42        S  \n",
              "888      2        W./C. 6607  23.4500   NaN        S  \n",
              "889      0            111369  30.0000  C148        C  \n",
              "890      0            370376   7.7500   NaN        Q  \n",
              "\n",
              "[891 rows x 12 columns]"
            ]
          },
          "execution_count": 2,
          "metadata": {},
          "output_type": "execute_result"
        }
      ],
      "source": [
        "# Data Loading\n",
        "\n",
        "data = pd.read_csv('https://raw.githubusercontent.com/ardhiraka/FSDS_Guidelines/master/p1/v3/w1/P1W1D2AM%20-%20Feature%20Engineering%20-%20Part%201%20-%20Titanic.csv')\n",
        "data"
      ]
    },
    {
      "cell_type": "markdown",
      "metadata": {
        "id": "sguMvieV9lha"
      },
      "source": [
        "# 4 - Data Preprocessing"
      ]
    },
    {
      "cell_type": "markdown",
      "metadata": {
        "id": "UtP2bGe19pA0"
      },
      "source": [
        "## Get Data for Model Inference"
      ]
    },
    {
      "cell_type": "code",
      "execution_count": 3,
      "metadata": {
        "colab": {
          "base_uri": "https://localhost:8080/",
          "height": 206
        },
        "id": "OUE3TYKS9rqX",
        "outputId": "53ff16c0-e0e3-421b-9c5f-468b958936a9"
      },
      "outputs": [
        {
          "data": {
            "text/html": [
              "<div>\n",
              "<style scoped>\n",
              "    .dataframe tbody tr th:only-of-type {\n",
              "        vertical-align: middle;\n",
              "    }\n",
              "\n",
              "    .dataframe tbody tr th {\n",
              "        vertical-align: top;\n",
              "    }\n",
              "\n",
              "    .dataframe thead th {\n",
              "        text-align: right;\n",
              "    }\n",
              "</style>\n",
              "<table border=\"1\" class=\"dataframe\">\n",
              "  <thead>\n",
              "    <tr style=\"text-align: right;\">\n",
              "      <th></th>\n",
              "      <th>PassengerId</th>\n",
              "      <th>Survived</th>\n",
              "      <th>Pclass</th>\n",
              "      <th>Name</th>\n",
              "      <th>Sex</th>\n",
              "      <th>Age</th>\n",
              "      <th>SibSp</th>\n",
              "      <th>Parch</th>\n",
              "      <th>Ticket</th>\n",
              "      <th>Fare</th>\n",
              "      <th>Cabin</th>\n",
              "      <th>Embarked</th>\n",
              "    </tr>\n",
              "  </thead>\n",
              "  <tbody>\n",
              "    <tr>\n",
              "      <th>287</th>\n",
              "      <td>288</td>\n",
              "      <td>0</td>\n",
              "      <td>3</td>\n",
              "      <td>Naidenoff, Mr. Penko</td>\n",
              "      <td>male</td>\n",
              "      <td>22.0</td>\n",
              "      <td>0</td>\n",
              "      <td>0</td>\n",
              "      <td>349206</td>\n",
              "      <td>7.8958</td>\n",
              "      <td>NaN</td>\n",
              "      <td>S</td>\n",
              "    </tr>\n",
              "    <tr>\n",
              "      <th>621</th>\n",
              "      <td>622</td>\n",
              "      <td>1</td>\n",
              "      <td>1</td>\n",
              "      <td>Kimball, Mr. Edwin Nelson Jr</td>\n",
              "      <td>male</td>\n",
              "      <td>42.0</td>\n",
              "      <td>1</td>\n",
              "      <td>0</td>\n",
              "      <td>11753</td>\n",
              "      <td>52.5542</td>\n",
              "      <td>D19</td>\n",
              "      <td>S</td>\n",
              "    </tr>\n",
              "    <tr>\n",
              "      <th>395</th>\n",
              "      <td>396</td>\n",
              "      <td>0</td>\n",
              "      <td>3</td>\n",
              "      <td>Johansson, Mr. Erik</td>\n",
              "      <td>male</td>\n",
              "      <td>22.0</td>\n",
              "      <td>0</td>\n",
              "      <td>0</td>\n",
              "      <td>350052</td>\n",
              "      <td>7.7958</td>\n",
              "      <td>NaN</td>\n",
              "      <td>S</td>\n",
              "    </tr>\n",
              "    <tr>\n",
              "      <th>273</th>\n",
              "      <td>274</td>\n",
              "      <td>0</td>\n",
              "      <td>1</td>\n",
              "      <td>Natsch, Mr. Charles H</td>\n",
              "      <td>male</td>\n",
              "      <td>37.0</td>\n",
              "      <td>0</td>\n",
              "      <td>1</td>\n",
              "      <td>PC 17596</td>\n",
              "      <td>29.7000</td>\n",
              "      <td>C118</td>\n",
              "      <td>C</td>\n",
              "    </tr>\n",
              "    <tr>\n",
              "      <th>155</th>\n",
              "      <td>156</td>\n",
              "      <td>0</td>\n",
              "      <td>1</td>\n",
              "      <td>Williams, Mr. Charles Duane</td>\n",
              "      <td>male</td>\n",
              "      <td>51.0</td>\n",
              "      <td>0</td>\n",
              "      <td>1</td>\n",
              "      <td>PC 17597</td>\n",
              "      <td>61.3792</td>\n",
              "      <td>NaN</td>\n",
              "      <td>C</td>\n",
              "    </tr>\n",
              "  </tbody>\n",
              "</table>\n",
              "</div>"
            ],
            "text/plain": [
              "     PassengerId  Survived  Pclass                          Name   Sex   Age   \n",
              "287          288         0       3          Naidenoff, Mr. Penko  male  22.0  \\\n",
              "621          622         1       1  Kimball, Mr. Edwin Nelson Jr  male  42.0   \n",
              "395          396         0       3           Johansson, Mr. Erik  male  22.0   \n",
              "273          274         0       1         Natsch, Mr. Charles H  male  37.0   \n",
              "155          156         0       1   Williams, Mr. Charles Duane  male  51.0   \n",
              "\n",
              "     SibSp  Parch    Ticket     Fare Cabin Embarked  \n",
              "287      0      0    349206   7.8958   NaN        S  \n",
              "621      1      0     11753  52.5542   D19        S  \n",
              "395      0      0    350052   7.7958   NaN        S  \n",
              "273      0      1  PC 17596  29.7000  C118        C  \n",
              "155      0      1  PC 17597  61.3792   NaN        C  "
            ]
          },
          "execution_count": 3,
          "metadata": {},
          "output_type": "execute_result"
        }
      ],
      "source": [
        "# Get Data for Model Inference\n",
        "\n",
        "data_inf = data.sample(5, random_state=28)\n",
        "data_inf"
      ]
    },
    {
      "cell_type": "code",
      "execution_count": 4,
      "metadata": {
        "colab": {
          "base_uri": "https://localhost:8080/",
          "height": 424
        },
        "id": "udXKLd6A92_j",
        "outputId": "e24e2517-f2e7-41e8-9771-4b1ec7d603fb"
      },
      "outputs": [
        {
          "data": {
            "text/html": [
              "<div>\n",
              "<style scoped>\n",
              "    .dataframe tbody tr th:only-of-type {\n",
              "        vertical-align: middle;\n",
              "    }\n",
              "\n",
              "    .dataframe tbody tr th {\n",
              "        vertical-align: top;\n",
              "    }\n",
              "\n",
              "    .dataframe thead th {\n",
              "        text-align: right;\n",
              "    }\n",
              "</style>\n",
              "<table border=\"1\" class=\"dataframe\">\n",
              "  <thead>\n",
              "    <tr style=\"text-align: right;\">\n",
              "      <th></th>\n",
              "      <th>PassengerId</th>\n",
              "      <th>Survived</th>\n",
              "      <th>Pclass</th>\n",
              "      <th>Name</th>\n",
              "      <th>Sex</th>\n",
              "      <th>Age</th>\n",
              "      <th>SibSp</th>\n",
              "      <th>Parch</th>\n",
              "      <th>Ticket</th>\n",
              "      <th>Fare</th>\n",
              "      <th>Cabin</th>\n",
              "      <th>Embarked</th>\n",
              "    </tr>\n",
              "  </thead>\n",
              "  <tbody>\n",
              "    <tr>\n",
              "      <th>0</th>\n",
              "      <td>1</td>\n",
              "      <td>0</td>\n",
              "      <td>3</td>\n",
              "      <td>Braund, Mr. Owen Harris</td>\n",
              "      <td>male</td>\n",
              "      <td>22.0</td>\n",
              "      <td>1</td>\n",
              "      <td>0</td>\n",
              "      <td>A/5 21171</td>\n",
              "      <td>7.2500</td>\n",
              "      <td>NaN</td>\n",
              "      <td>S</td>\n",
              "    </tr>\n",
              "    <tr>\n",
              "      <th>1</th>\n",
              "      <td>2</td>\n",
              "      <td>1</td>\n",
              "      <td>1</td>\n",
              "      <td>Cumings, Mrs. John Bradley (Florence Briggs Th...</td>\n",
              "      <td>female</td>\n",
              "      <td>38.0</td>\n",
              "      <td>1</td>\n",
              "      <td>0</td>\n",
              "      <td>PC 17599</td>\n",
              "      <td>71.2833</td>\n",
              "      <td>C85</td>\n",
              "      <td>C</td>\n",
              "    </tr>\n",
              "    <tr>\n",
              "      <th>2</th>\n",
              "      <td>3</td>\n",
              "      <td>1</td>\n",
              "      <td>3</td>\n",
              "      <td>Heikkinen, Miss. Laina</td>\n",
              "      <td>female</td>\n",
              "      <td>26.0</td>\n",
              "      <td>0</td>\n",
              "      <td>0</td>\n",
              "      <td>STON/O2. 3101282</td>\n",
              "      <td>7.9250</td>\n",
              "      <td>NaN</td>\n",
              "      <td>S</td>\n",
              "    </tr>\n",
              "    <tr>\n",
              "      <th>3</th>\n",
              "      <td>4</td>\n",
              "      <td>1</td>\n",
              "      <td>1</td>\n",
              "      <td>Futrelle, Mrs. Jacques Heath (Lily May Peel)</td>\n",
              "      <td>female</td>\n",
              "      <td>35.0</td>\n",
              "      <td>1</td>\n",
              "      <td>0</td>\n",
              "      <td>113803</td>\n",
              "      <td>53.1000</td>\n",
              "      <td>C123</td>\n",
              "      <td>S</td>\n",
              "    </tr>\n",
              "    <tr>\n",
              "      <th>4</th>\n",
              "      <td>5</td>\n",
              "      <td>0</td>\n",
              "      <td>3</td>\n",
              "      <td>Allen, Mr. William Henry</td>\n",
              "      <td>male</td>\n",
              "      <td>35.0</td>\n",
              "      <td>0</td>\n",
              "      <td>0</td>\n",
              "      <td>373450</td>\n",
              "      <td>8.0500</td>\n",
              "      <td>NaN</td>\n",
              "      <td>S</td>\n",
              "    </tr>\n",
              "    <tr>\n",
              "      <th>...</th>\n",
              "      <td>...</td>\n",
              "      <td>...</td>\n",
              "      <td>...</td>\n",
              "      <td>...</td>\n",
              "      <td>...</td>\n",
              "      <td>...</td>\n",
              "      <td>...</td>\n",
              "      <td>...</td>\n",
              "      <td>...</td>\n",
              "      <td>...</td>\n",
              "      <td>...</td>\n",
              "      <td>...</td>\n",
              "    </tr>\n",
              "    <tr>\n",
              "      <th>886</th>\n",
              "      <td>887</td>\n",
              "      <td>0</td>\n",
              "      <td>2</td>\n",
              "      <td>Montvila, Rev. Juozas</td>\n",
              "      <td>male</td>\n",
              "      <td>27.0</td>\n",
              "      <td>0</td>\n",
              "      <td>0</td>\n",
              "      <td>211536</td>\n",
              "      <td>13.0000</td>\n",
              "      <td>NaN</td>\n",
              "      <td>S</td>\n",
              "    </tr>\n",
              "    <tr>\n",
              "      <th>887</th>\n",
              "      <td>888</td>\n",
              "      <td>1</td>\n",
              "      <td>1</td>\n",
              "      <td>Graham, Miss. Margaret Edith</td>\n",
              "      <td>female</td>\n",
              "      <td>19.0</td>\n",
              "      <td>0</td>\n",
              "      <td>0</td>\n",
              "      <td>112053</td>\n",
              "      <td>30.0000</td>\n",
              "      <td>B42</td>\n",
              "      <td>S</td>\n",
              "    </tr>\n",
              "    <tr>\n",
              "      <th>888</th>\n",
              "      <td>889</td>\n",
              "      <td>0</td>\n",
              "      <td>3</td>\n",
              "      <td>Johnston, Miss. Catherine Helen \"Carrie\"</td>\n",
              "      <td>female</td>\n",
              "      <td>NaN</td>\n",
              "      <td>1</td>\n",
              "      <td>2</td>\n",
              "      <td>W./C. 6607</td>\n",
              "      <td>23.4500</td>\n",
              "      <td>NaN</td>\n",
              "      <td>S</td>\n",
              "    </tr>\n",
              "    <tr>\n",
              "      <th>889</th>\n",
              "      <td>890</td>\n",
              "      <td>1</td>\n",
              "      <td>1</td>\n",
              "      <td>Behr, Mr. Karl Howell</td>\n",
              "      <td>male</td>\n",
              "      <td>26.0</td>\n",
              "      <td>0</td>\n",
              "      <td>0</td>\n",
              "      <td>111369</td>\n",
              "      <td>30.0000</td>\n",
              "      <td>C148</td>\n",
              "      <td>C</td>\n",
              "    </tr>\n",
              "    <tr>\n",
              "      <th>890</th>\n",
              "      <td>891</td>\n",
              "      <td>0</td>\n",
              "      <td>3</td>\n",
              "      <td>Dooley, Mr. Patrick</td>\n",
              "      <td>male</td>\n",
              "      <td>32.0</td>\n",
              "      <td>0</td>\n",
              "      <td>0</td>\n",
              "      <td>370376</td>\n",
              "      <td>7.7500</td>\n",
              "      <td>NaN</td>\n",
              "      <td>Q</td>\n",
              "    </tr>\n",
              "  </tbody>\n",
              "</table>\n",
              "<p>886 rows × 12 columns</p>\n",
              "</div>"
            ],
            "text/plain": [
              "     PassengerId  Survived  Pclass   \n",
              "0              1         0       3  \\\n",
              "1              2         1       1   \n",
              "2              3         1       3   \n",
              "3              4         1       1   \n",
              "4              5         0       3   \n",
              "..           ...       ...     ...   \n",
              "886          887         0       2   \n",
              "887          888         1       1   \n",
              "888          889         0       3   \n",
              "889          890         1       1   \n",
              "890          891         0       3   \n",
              "\n",
              "                                                  Name     Sex   Age  SibSp   \n",
              "0                              Braund, Mr. Owen Harris    male  22.0      1  \\\n",
              "1    Cumings, Mrs. John Bradley (Florence Briggs Th...  female  38.0      1   \n",
              "2                               Heikkinen, Miss. Laina  female  26.0      0   \n",
              "3         Futrelle, Mrs. Jacques Heath (Lily May Peel)  female  35.0      1   \n",
              "4                             Allen, Mr. William Henry    male  35.0      0   \n",
              "..                                                 ...     ...   ...    ...   \n",
              "886                              Montvila, Rev. Juozas    male  27.0      0   \n",
              "887                       Graham, Miss. Margaret Edith  female  19.0      0   \n",
              "888           Johnston, Miss. Catherine Helen \"Carrie\"  female   NaN      1   \n",
              "889                              Behr, Mr. Karl Howell    male  26.0      0   \n",
              "890                                Dooley, Mr. Patrick    male  32.0      0   \n",
              "\n",
              "     Parch            Ticket     Fare Cabin Embarked  \n",
              "0        0         A/5 21171   7.2500   NaN        S  \n",
              "1        0          PC 17599  71.2833   C85        C  \n",
              "2        0  STON/O2. 3101282   7.9250   NaN        S  \n",
              "3        0            113803  53.1000  C123        S  \n",
              "4        0            373450   8.0500   NaN        S  \n",
              "..     ...               ...      ...   ...      ...  \n",
              "886      0            211536  13.0000   NaN        S  \n",
              "887      0            112053  30.0000   B42        S  \n",
              "888      2        W./C. 6607  23.4500   NaN        S  \n",
              "889      0            111369  30.0000  C148        C  \n",
              "890      0            370376   7.7500   NaN        Q  \n",
              "\n",
              "[886 rows x 12 columns]"
            ]
          },
          "execution_count": 4,
          "metadata": {},
          "output_type": "execute_result"
        }
      ],
      "source": [
        "# Remove Inference Set from Dataset\n",
        "\n",
        "data_train_test = data.drop(data_inf.index)\n",
        "data_train_test"
      ]
    },
    {
      "cell_type": "code",
      "execution_count": 5,
      "metadata": {
        "colab": {
          "base_uri": "https://localhost:8080/",
          "height": 206
        },
        "id": "XKRfHCUh-A04",
        "outputId": "2f3c7d67-3101-4f0f-c9a1-fcd52bff66a0"
      },
      "outputs": [
        {
          "data": {
            "text/html": [
              "<div>\n",
              "<style scoped>\n",
              "    .dataframe tbody tr th:only-of-type {\n",
              "        vertical-align: middle;\n",
              "    }\n",
              "\n",
              "    .dataframe tbody tr th {\n",
              "        vertical-align: top;\n",
              "    }\n",
              "\n",
              "    .dataframe thead th {\n",
              "        text-align: right;\n",
              "    }\n",
              "</style>\n",
              "<table border=\"1\" class=\"dataframe\">\n",
              "  <thead>\n",
              "    <tr style=\"text-align: right;\">\n",
              "      <th></th>\n",
              "      <th>PassengerId</th>\n",
              "      <th>Survived</th>\n",
              "      <th>Pclass</th>\n",
              "      <th>Name</th>\n",
              "      <th>Sex</th>\n",
              "      <th>Age</th>\n",
              "      <th>SibSp</th>\n",
              "      <th>Parch</th>\n",
              "      <th>Ticket</th>\n",
              "      <th>Fare</th>\n",
              "      <th>Cabin</th>\n",
              "      <th>Embarked</th>\n",
              "    </tr>\n",
              "  </thead>\n",
              "  <tbody>\n",
              "    <tr>\n",
              "      <th>0</th>\n",
              "      <td>288</td>\n",
              "      <td>0</td>\n",
              "      <td>3</td>\n",
              "      <td>Naidenoff, Mr. Penko</td>\n",
              "      <td>male</td>\n",
              "      <td>22.0</td>\n",
              "      <td>0</td>\n",
              "      <td>0</td>\n",
              "      <td>349206</td>\n",
              "      <td>7.8958</td>\n",
              "      <td>NaN</td>\n",
              "      <td>S</td>\n",
              "    </tr>\n",
              "    <tr>\n",
              "      <th>1</th>\n",
              "      <td>622</td>\n",
              "      <td>1</td>\n",
              "      <td>1</td>\n",
              "      <td>Kimball, Mr. Edwin Nelson Jr</td>\n",
              "      <td>male</td>\n",
              "      <td>42.0</td>\n",
              "      <td>1</td>\n",
              "      <td>0</td>\n",
              "      <td>11753</td>\n",
              "      <td>52.5542</td>\n",
              "      <td>D19</td>\n",
              "      <td>S</td>\n",
              "    </tr>\n",
              "    <tr>\n",
              "      <th>2</th>\n",
              "      <td>396</td>\n",
              "      <td>0</td>\n",
              "      <td>3</td>\n",
              "      <td>Johansson, Mr. Erik</td>\n",
              "      <td>male</td>\n",
              "      <td>22.0</td>\n",
              "      <td>0</td>\n",
              "      <td>0</td>\n",
              "      <td>350052</td>\n",
              "      <td>7.7958</td>\n",
              "      <td>NaN</td>\n",
              "      <td>S</td>\n",
              "    </tr>\n",
              "    <tr>\n",
              "      <th>3</th>\n",
              "      <td>274</td>\n",
              "      <td>0</td>\n",
              "      <td>1</td>\n",
              "      <td>Natsch, Mr. Charles H</td>\n",
              "      <td>male</td>\n",
              "      <td>37.0</td>\n",
              "      <td>0</td>\n",
              "      <td>1</td>\n",
              "      <td>PC 17596</td>\n",
              "      <td>29.7000</td>\n",
              "      <td>C118</td>\n",
              "      <td>C</td>\n",
              "    </tr>\n",
              "    <tr>\n",
              "      <th>4</th>\n",
              "      <td>156</td>\n",
              "      <td>0</td>\n",
              "      <td>1</td>\n",
              "      <td>Williams, Mr. Charles Duane</td>\n",
              "      <td>male</td>\n",
              "      <td>51.0</td>\n",
              "      <td>0</td>\n",
              "      <td>1</td>\n",
              "      <td>PC 17597</td>\n",
              "      <td>61.3792</td>\n",
              "      <td>NaN</td>\n",
              "      <td>C</td>\n",
              "    </tr>\n",
              "  </tbody>\n",
              "</table>\n",
              "</div>"
            ],
            "text/plain": [
              "   PassengerId  Survived  Pclass                          Name   Sex   Age   \n",
              "0          288         0       3          Naidenoff, Mr. Penko  male  22.0  \\\n",
              "1          622         1       1  Kimball, Mr. Edwin Nelson Jr  male  42.0   \n",
              "2          396         0       3           Johansson, Mr. Erik  male  22.0   \n",
              "3          274         0       1         Natsch, Mr. Charles H  male  37.0   \n",
              "4          156         0       1   Williams, Mr. Charles Duane  male  51.0   \n",
              "\n",
              "   SibSp  Parch    Ticket     Fare Cabin Embarked  \n",
              "0      0      0    349206   7.8958   NaN        S  \n",
              "1      1      0     11753  52.5542   D19        S  \n",
              "2      0      0    350052   7.7958   NaN        S  \n",
              "3      0      1  PC 17596  29.7000  C118        C  \n",
              "4      0      1  PC 17597  61.3792   NaN        C  "
            ]
          },
          "execution_count": 5,
          "metadata": {},
          "output_type": "execute_result"
        }
      ],
      "source": [
        "# Reset Index\n",
        "\n",
        "data_train_test.reset_index(drop=True, inplace=True)\n",
        "data_inf.reset_index(drop=True, inplace=True)\n",
        "data_inf"
      ]
    },
    {
      "cell_type": "markdown",
      "metadata": {
        "id": "C4MejPFU-ljZ"
      },
      "source": [
        "## Splitting between `X` and `y`"
      ]
    },
    {
      "cell_type": "code",
      "execution_count": 6,
      "metadata": {
        "id": "WM22PogX-otE"
      },
      "outputs": [],
      "source": [
        "# Splitting between `X` and `y`\n",
        "\n",
        "X = data_train_test.drop('Survived', axis=1)\n",
        "y = data_train_test['Survived']"
      ]
    },
    {
      "cell_type": "code",
      "execution_count": 7,
      "metadata": {
        "colab": {
          "base_uri": "https://localhost:8080/"
        },
        "id": "GV9jb3H4-0CW",
        "outputId": "deca0015-7851-431e-f8e5-31c9f2f05697"
      },
      "outputs": [
        {
          "name": "stdout",
          "output_type": "stream",
          "text": [
            "Train Size :  (640, 11)\n",
            "Val Size :  (113, 11)\n",
            "Test Size :  (133, 11)\n"
          ]
        }
      ],
      "source": [
        "# Split between Train-Set, Val-Set, and Test-Set\n",
        "\n",
        "X_train_val, X_test, y_train_val, y_test = train_test_split(X, y, test_size=0.15, random_state=28)\n",
        "X_train, X_val, y_train, y_val = train_test_split(X_train_val, y_train_val, test_size=0.15, random_state=28)\n",
        "\n",
        "print('Train Size : ', X_train.shape)\n",
        "print('Val Size : ', X_val.shape)\n",
        "print('Test Size : ', X_test.shape)"
      ]
    },
    {
      "cell_type": "markdown",
      "metadata": {
        "id": "LXbeQogbA6eR"
      },
      "source": [
        "## Handling Missing Values"
      ]
    },
    {
      "cell_type": "code",
      "execution_count": 8,
      "metadata": {
        "colab": {
          "base_uri": "https://localhost:8080/"
        },
        "id": "i4keG6sRA_h-",
        "outputId": "a83eb35d-0083-4e24-9a24-f8317a2be457"
      },
      "outputs": [
        {
          "data": {
            "text/plain": [
              "PassengerId      0\n",
              "Pclass           0\n",
              "Name             0\n",
              "Sex              0\n",
              "Age            126\n",
              "SibSp            0\n",
              "Parch            0\n",
              "Ticket           0\n",
              "Fare             0\n",
              "Cabin          496\n",
              "Embarked         1\n",
              "dtype: int64"
            ]
          },
          "execution_count": 8,
          "metadata": {},
          "output_type": "execute_result"
        }
      ],
      "source": [
        "# Check Missing Values on X_train\n",
        "\n",
        "X_train.isnull().sum()"
      ]
    },
    {
      "cell_type": "code",
      "execution_count": 9,
      "metadata": {
        "colab": {
          "base_uri": "https://localhost:8080/"
        },
        "id": "KS-Q2Dx3BFwj",
        "outputId": "7781be26-cca8-4b24-d145-304a0d7c3bd0"
      },
      "outputs": [
        {
          "data": {
            "text/plain": [
              "PassengerId     0\n",
              "Pclass          0\n",
              "Name            0\n",
              "Sex             0\n",
              "Age            26\n",
              "SibSp           0\n",
              "Parch           0\n",
              "Ticket          0\n",
              "Fare            0\n",
              "Cabin          86\n",
              "Embarked        0\n",
              "dtype: int64"
            ]
          },
          "execution_count": 9,
          "metadata": {},
          "output_type": "execute_result"
        }
      ],
      "source": [
        "# Check Missing Values on X_val\n",
        "\n",
        "X_val.isnull().sum()"
      ]
    },
    {
      "cell_type": "code",
      "execution_count": 10,
      "metadata": {
        "colab": {
          "base_uri": "https://localhost:8080/"
        },
        "id": "gxjZ_rfmBKIy",
        "outputId": "211c47cb-f492-40c3-9851-3c9916cdaa3b"
      },
      "outputs": [
        {
          "data": {
            "text/plain": [
              "PassengerId      0\n",
              "Pclass           0\n",
              "Name             0\n",
              "Sex              0\n",
              "Age             25\n",
              "SibSp            0\n",
              "Parch            0\n",
              "Ticket           0\n",
              "Fare             0\n",
              "Cabin          102\n",
              "Embarked         1\n",
              "dtype: int64"
            ]
          },
          "execution_count": 10,
          "metadata": {},
          "output_type": "execute_result"
        }
      ],
      "source": [
        "# Check Missing Values on X_test\n",
        "\n",
        "X_test.isnull().sum()"
      ]
    },
    {
      "cell_type": "markdown",
      "metadata": {
        "id": "dVjc4_URBTsk"
      },
      "source": [
        "## Feature Selection"
      ]
    },
    {
      "cell_type": "code",
      "execution_count": 11,
      "metadata": {
        "colab": {
          "base_uri": "https://localhost:8080/",
          "height": 424
        },
        "id": "wkEXnIx4BV9Z",
        "outputId": "0f6c7edf-a0c2-4144-c67d-9156aa33b528"
      },
      "outputs": [
        {
          "data": {
            "text/html": [
              "<div>\n",
              "<style scoped>\n",
              "    .dataframe tbody tr th:only-of-type {\n",
              "        vertical-align: middle;\n",
              "    }\n",
              "\n",
              "    .dataframe tbody tr th {\n",
              "        vertical-align: top;\n",
              "    }\n",
              "\n",
              "    .dataframe thead th {\n",
              "        text-align: right;\n",
              "    }\n",
              "</style>\n",
              "<table border=\"1\" class=\"dataframe\">\n",
              "  <thead>\n",
              "    <tr style=\"text-align: right;\">\n",
              "      <th></th>\n",
              "      <th>PassengerId</th>\n",
              "      <th>Pclass</th>\n",
              "      <th>Name</th>\n",
              "      <th>Sex</th>\n",
              "      <th>Age</th>\n",
              "      <th>SibSp</th>\n",
              "      <th>Parch</th>\n",
              "      <th>Ticket</th>\n",
              "      <th>Fare</th>\n",
              "      <th>Cabin</th>\n",
              "      <th>Embarked</th>\n",
              "    </tr>\n",
              "  </thead>\n",
              "  <tbody>\n",
              "    <tr>\n",
              "      <th>786</th>\n",
              "      <td>792</td>\n",
              "      <td>2</td>\n",
              "      <td>Gaskell, Mr. Alfred</td>\n",
              "      <td>male</td>\n",
              "      <td>16.0</td>\n",
              "      <td>0</td>\n",
              "      <td>0</td>\n",
              "      <td>239865</td>\n",
              "      <td>26.0000</td>\n",
              "      <td>NaN</td>\n",
              "      <td>S</td>\n",
              "    </tr>\n",
              "    <tr>\n",
              "      <th>189</th>\n",
              "      <td>191</td>\n",
              "      <td>2</td>\n",
              "      <td>Pinsky, Mrs. (Rosa)</td>\n",
              "      <td>female</td>\n",
              "      <td>32.0</td>\n",
              "      <td>0</td>\n",
              "      <td>0</td>\n",
              "      <td>234604</td>\n",
              "      <td>13.0000</td>\n",
              "      <td>NaN</td>\n",
              "      <td>S</td>\n",
              "    </tr>\n",
              "    <tr>\n",
              "      <th>567</th>\n",
              "      <td>572</td>\n",
              "      <td>1</td>\n",
              "      <td>Appleton, Mrs. Edward Dale (Charlotte Lamson)</td>\n",
              "      <td>female</td>\n",
              "      <td>53.0</td>\n",
              "      <td>2</td>\n",
              "      <td>0</td>\n",
              "      <td>11769</td>\n",
              "      <td>51.4792</td>\n",
              "      <td>C101</td>\n",
              "      <td>S</td>\n",
              "    </tr>\n",
              "    <tr>\n",
              "      <th>500</th>\n",
              "      <td>505</td>\n",
              "      <td>1</td>\n",
              "      <td>Maioni, Miss. Roberta</td>\n",
              "      <td>female</td>\n",
              "      <td>16.0</td>\n",
              "      <td>0</td>\n",
              "      <td>0</td>\n",
              "      <td>110152</td>\n",
              "      <td>86.5000</td>\n",
              "      <td>B79</td>\n",
              "      <td>S</td>\n",
              "    </tr>\n",
              "    <tr>\n",
              "      <th>868</th>\n",
              "      <td>874</td>\n",
              "      <td>3</td>\n",
              "      <td>Vander Cruyssen, Mr. Victor</td>\n",
              "      <td>male</td>\n",
              "      <td>47.0</td>\n",
              "      <td>0</td>\n",
              "      <td>0</td>\n",
              "      <td>345765</td>\n",
              "      <td>9.0000</td>\n",
              "      <td>NaN</td>\n",
              "      <td>S</td>\n",
              "    </tr>\n",
              "    <tr>\n",
              "      <th>...</th>\n",
              "      <td>...</td>\n",
              "      <td>...</td>\n",
              "      <td>...</td>\n",
              "      <td>...</td>\n",
              "      <td>...</td>\n",
              "      <td>...</td>\n",
              "      <td>...</td>\n",
              "      <td>...</td>\n",
              "      <td>...</td>\n",
              "      <td>...</td>\n",
              "      <td>...</td>\n",
              "    </tr>\n",
              "    <tr>\n",
              "      <th>163</th>\n",
              "      <td>165</td>\n",
              "      <td>3</td>\n",
              "      <td>Panula, Master. Eino Viljami</td>\n",
              "      <td>male</td>\n",
              "      <td>1.0</td>\n",
              "      <td>4</td>\n",
              "      <td>1</td>\n",
              "      <td>3101295</td>\n",
              "      <td>39.6875</td>\n",
              "      <td>NaN</td>\n",
              "      <td>S</td>\n",
              "    </tr>\n",
              "    <tr>\n",
              "      <th>522</th>\n",
              "      <td>527</td>\n",
              "      <td>2</td>\n",
              "      <td>Ridsdale, Miss. Lucy</td>\n",
              "      <td>female</td>\n",
              "      <td>50.0</td>\n",
              "      <td>0</td>\n",
              "      <td>0</td>\n",
              "      <td>W./C. 14258</td>\n",
              "      <td>10.5000</td>\n",
              "      <td>NaN</td>\n",
              "      <td>S</td>\n",
              "    </tr>\n",
              "    <tr>\n",
              "      <th>34</th>\n",
              "      <td>35</td>\n",
              "      <td>1</td>\n",
              "      <td>Meyer, Mr. Edgar Joseph</td>\n",
              "      <td>male</td>\n",
              "      <td>28.0</td>\n",
              "      <td>1</td>\n",
              "      <td>0</td>\n",
              "      <td>PC 17604</td>\n",
              "      <td>82.1708</td>\n",
              "      <td>NaN</td>\n",
              "      <td>C</td>\n",
              "    </tr>\n",
              "    <tr>\n",
              "      <th>566</th>\n",
              "      <td>571</td>\n",
              "      <td>2</td>\n",
              "      <td>Harris, Mr. George</td>\n",
              "      <td>male</td>\n",
              "      <td>62.0</td>\n",
              "      <td>0</td>\n",
              "      <td>0</td>\n",
              "      <td>S.W./PP 752</td>\n",
              "      <td>10.5000</td>\n",
              "      <td>NaN</td>\n",
              "      <td>S</td>\n",
              "    </tr>\n",
              "    <tr>\n",
              "      <th>356</th>\n",
              "      <td>360</td>\n",
              "      <td>3</td>\n",
              "      <td>Mockler, Miss. Helen Mary \"Ellie\"</td>\n",
              "      <td>female</td>\n",
              "      <td>NaN</td>\n",
              "      <td>0</td>\n",
              "      <td>0</td>\n",
              "      <td>330980</td>\n",
              "      <td>7.8792</td>\n",
              "      <td>NaN</td>\n",
              "      <td>Q</td>\n",
              "    </tr>\n",
              "  </tbody>\n",
              "</table>\n",
              "<p>640 rows × 11 columns</p>\n",
              "</div>"
            ],
            "text/plain": [
              "     PassengerId  Pclass                                           Name   \n",
              "786          792       2                            Gaskell, Mr. Alfred  \\\n",
              "189          191       2                            Pinsky, Mrs. (Rosa)   \n",
              "567          572       1  Appleton, Mrs. Edward Dale (Charlotte Lamson)   \n",
              "500          505       1                          Maioni, Miss. Roberta   \n",
              "868          874       3                    Vander Cruyssen, Mr. Victor   \n",
              "..           ...     ...                                            ...   \n",
              "163          165       3                   Panula, Master. Eino Viljami   \n",
              "522          527       2                           Ridsdale, Miss. Lucy   \n",
              "34            35       1                        Meyer, Mr. Edgar Joseph   \n",
              "566          571       2                             Harris, Mr. George   \n",
              "356          360       3              Mockler, Miss. Helen Mary \"Ellie\"   \n",
              "\n",
              "        Sex   Age  SibSp  Parch       Ticket     Fare Cabin Embarked  \n",
              "786    male  16.0      0      0       239865  26.0000   NaN        S  \n",
              "189  female  32.0      0      0       234604  13.0000   NaN        S  \n",
              "567  female  53.0      2      0        11769  51.4792  C101        S  \n",
              "500  female  16.0      0      0       110152  86.5000   B79        S  \n",
              "868    male  47.0      0      0       345765   9.0000   NaN        S  \n",
              "..      ...   ...    ...    ...          ...      ...   ...      ...  \n",
              "163    male   1.0      4      1      3101295  39.6875   NaN        S  \n",
              "522  female  50.0      0      0  W./C. 14258  10.5000   NaN        S  \n",
              "34     male  28.0      1      0     PC 17604  82.1708   NaN        C  \n",
              "566    male  62.0      0      0  S.W./PP 752  10.5000   NaN        S  \n",
              "356  female   NaN      0      0       330980   7.8792   NaN        Q  \n",
              "\n",
              "[640 rows x 11 columns]"
            ]
          },
          "execution_count": 11,
          "metadata": {},
          "output_type": "execute_result"
        }
      ],
      "source": [
        "# Display X_train\n",
        "\n",
        "X_train"
      ]
    },
    {
      "cell_type": "markdown",
      "metadata": {
        "id": "J0gCsxUuBoXO"
      },
      "source": [
        "Misalkan column `PassengerId`, `Cabin`, `Ticket`, `Embarked`, dan `Name` tidak memiliki korelasi yang kuat terhadap column `Survived`."
      ]
    },
    {
      "cell_type": "code",
      "execution_count": 12,
      "metadata": {
        "id": "SjJWycbjB7IE"
      },
      "outputs": [],
      "source": [
        "# Drop Columns\n",
        "\n",
        "X_train.drop(['PassengerId', 'Cabin', 'Ticket', 'Embarked', 'Name'], axis=1, inplace=True)\n",
        "X_val.drop(['PassengerId', 'Cabin', 'Ticket', 'Embarked', 'Name'], axis=1, inplace=True)\n",
        "X_test.drop(['PassengerId', 'Cabin', 'Ticket', 'Embarked', 'Name'], axis=1, inplace=True)"
      ]
    },
    {
      "cell_type": "markdown",
      "metadata": {
        "id": "vtrlbiHJCWcd"
      },
      "source": [
        "## Get Numerical Columns and Categorical Columns"
      ]
    },
    {
      "cell_type": "code",
      "execution_count": 13,
      "metadata": {
        "colab": {
          "base_uri": "https://localhost:8080/"
        },
        "id": "ztjm5jp3CWK8",
        "outputId": "ee70fc24-cf88-47c5-9ce7-38c920d3e316"
      },
      "outputs": [
        {
          "name": "stdout",
          "output_type": "stream",
          "text": [
            "Numerical Columns :  ['Pclass', 'Age', 'SibSp', 'Parch', 'Fare']\n",
            "Categorical Columns :  ['Sex']\n"
          ]
        }
      ],
      "source": [
        "# Get Numerical Columns and Categorical Columns\n",
        "\n",
        "num_columns = X_train.select_dtypes(include=np.number).columns.tolist()\n",
        "cat_columns = X_train.select_dtypes(include=['object']).columns.tolist()\n",
        "\n",
        "print('Numerical Columns : ', num_columns)\n",
        "print('Categorical Columns : ', cat_columns)"
      ]
    },
    {
      "cell_type": "markdown",
      "metadata": {
        "id": "AA2wCr8dC2pU"
      },
      "source": [
        "## Pipeline"
      ]
    },
    {
      "cell_type": "code",
      "execution_count": 14,
      "metadata": {
        "id": "uOma8vtXC5af"
      },
      "outputs": [],
      "source": [
        "# Create A Pipeline\n",
        "\n",
        "num_pipeline = make_pipeline(SimpleImputer(strategy='median'),\n",
        "                             StandardScaler())\n",
        "\n",
        "cat_pipeline = make_pipeline(OneHotEncoder())\n",
        "\n",
        "final_pipeline = ColumnTransformer([\n",
        "    ('pipe_num', num_pipeline, num_columns),\n",
        "    ('pipe_cat', cat_pipeline, cat_columns)\n",
        "])"
      ]
    },
    {
      "cell_type": "code",
      "execution_count": 15,
      "metadata": {
        "colab": {
          "base_uri": "https://localhost:8080/"
        },
        "id": "j-Gt0_z5DjDv",
        "outputId": "fc8f9d98-c68d-45ea-c6e2-667014f560ef"
      },
      "outputs": [
        {
          "data": {
            "text/plain": [
              "(640, 7)"
            ]
          },
          "execution_count": 15,
          "metadata": {},
          "output_type": "execute_result"
        }
      ],
      "source": [
        "# Fit and Transform\n",
        "\n",
        "X_train = final_pipeline.fit_transform(X_train)\n",
        "X_val = final_pipeline.transform(X_val)\n",
        "X_test = final_pipeline.transform(X_test)\n",
        "X_train.shape"
      ]
    },
    {
      "cell_type": "markdown",
      "metadata": {
        "id": "EZr1l_3NEg3J"
      },
      "source": [
        "# 5 - Sequential API"
      ]
    },
    {
      "cell_type": "markdown",
      "metadata": {
        "id": "CPeqKofcE8ov"
      },
      "source": [
        "## 5.1 - Model Definition"
      ]
    },
    {
      "cell_type": "code",
      "execution_count": 16,
      "metadata": {
        "colab": {
          "base_uri": "https://localhost:8080/"
        },
        "id": "vdTvOYvfFAPH",
        "outputId": "616569d2-3b82-4c70-b11e-0b1bfe6cc8e8"
      },
      "outputs": [
        {
          "name": "stdout",
          "output_type": "stream",
          "text": [
            "Model: \"sequential\"\n",
            "_________________________________________________________________\n",
            " Layer (type)                Output Shape              Param #   \n",
            "=================================================================\n",
            " dense (Dense)               (None, 16)                128       \n",
            "                                                                 \n",
            " dense_1 (Dense)             (None, 8)                 136       \n",
            "                                                                 \n",
            " dense_2 (Dense)             (None, 1)                 9         \n",
            "                                                                 \n",
            "=================================================================\n",
            "Total params: 273 (1.07 KB)\n",
            "Trainable params: 273 (1.07 KB)\n",
            "Non-trainable params: 0 (0.00 Byte)\n",
            "_________________________________________________________________\n"
          ]
        }
      ],
      "source": [
        "# Create Sequential API\n",
        "\n",
        "from tensorflow.keras.models import Sequential\n",
        "from tensorflow.keras.layers import Dense\n",
        "\n",
        "model_sequential = Sequential()\n",
        "model_sequential.add(Dense(16, activation='relu', input_shape=(7,))) # Hidden Layer 1\n",
        "model_sequential.add(Dense(8, activation='relu')) # Hidden Layer 2\n",
        "model_sequential.add(Dense(1, activation='sigmoid')) # Output Layer\n",
        "\n",
        "# Compile\n",
        "model_sequential.compile(loss='binary_crossentropy',\n",
        "                         optimizer='Adam',\n",
        "                         metrics=['accuracy'])\n",
        "\n",
        "model_sequential.summary()"
      ]
    },
    {
      "cell_type": "code",
      "execution_count": 17,
      "metadata": {
        "colab": {
          "base_uri": "https://localhost:8080/",
          "height": 422
        },
        "id": "AtwUDtXUIlGL",
        "outputId": "fa452b81-3102-42e5-874c-8fd5b6a2a933"
      },
      "outputs": [
        {
          "name": "stdout",
          "output_type": "stream",
          "text": [
            "You must install pydot (`pip install pydot`) and install graphviz (see instructions at https://graphviz.gitlab.io/download/) for plot_model to work.\n"
          ]
        }
      ],
      "source": [
        "# Plot Layers\n",
        "\n",
        "import tensorflow as tf\n",
        "\n",
        "tf.keras.utils.plot_model(model_sequential, show_shapes=True)"
      ]
    },
    {
      "cell_type": "markdown",
      "metadata": {
        "id": "tt7-B8dZIy3R"
      },
      "source": [
        "## 5.2 - Model Training"
      ]
    },
    {
      "cell_type": "code",
      "execution_count": 18,
      "metadata": {
        "colab": {
          "base_uri": "https://localhost:8080/"
        },
        "id": "yp3N_jtOIyip",
        "outputId": "ab428934-0e3c-46de-9a28-29c09783e13b"
      },
      "outputs": [
        {
          "name": "stdout",
          "output_type": "stream",
          "text": [
            "CPU times: total: 0 ns\n",
            "Wall time: 0 ns\n",
            "Epoch 1/20\n",
            "64/64 [==============================] - 1s 6ms/step - loss: 0.6596 - accuracy: 0.6297 - val_loss: 0.5829 - val_accuracy: 0.7345\n",
            "Epoch 2/20\n",
            "64/64 [==============================] - 0s 2ms/step - loss: 0.5758 - accuracy: 0.7266 - val_loss: 0.5352 - val_accuracy: 0.7876\n",
            "Epoch 3/20\n",
            "64/64 [==============================] - 0s 2ms/step - loss: 0.5285 - accuracy: 0.7531 - val_loss: 0.5172 - val_accuracy: 0.7699\n",
            "Epoch 4/20\n",
            "64/64 [==============================] - 0s 2ms/step - loss: 0.4989 - accuracy: 0.7812 - val_loss: 0.5103 - val_accuracy: 0.7611\n",
            "Epoch 5/20\n",
            "64/64 [==============================] - 0s 2ms/step - loss: 0.4772 - accuracy: 0.7953 - val_loss: 0.5111 - val_accuracy: 0.7345\n",
            "Epoch 6/20\n",
            "64/64 [==============================] - 0s 2ms/step - loss: 0.4634 - accuracy: 0.8031 - val_loss: 0.5135 - val_accuracy: 0.7345\n",
            "Epoch 7/20\n",
            "64/64 [==============================] - 0s 2ms/step - loss: 0.4547 - accuracy: 0.8094 - val_loss: 0.5161 - val_accuracy: 0.7345\n",
            "Epoch 8/20\n",
            "64/64 [==============================] - 0s 2ms/step - loss: 0.4484 - accuracy: 0.8109 - val_loss: 0.5133 - val_accuracy: 0.7345\n",
            "Epoch 9/20\n",
            "64/64 [==============================] - 0s 2ms/step - loss: 0.4430 - accuracy: 0.8141 - val_loss: 0.5093 - val_accuracy: 0.7345\n",
            "Epoch 10/20\n",
            "64/64 [==============================] - 0s 2ms/step - loss: 0.4377 - accuracy: 0.8141 - val_loss: 0.5089 - val_accuracy: 0.7345\n",
            "Epoch 11/20\n",
            "64/64 [==============================] - 0s 2ms/step - loss: 0.4346 - accuracy: 0.8203 - val_loss: 0.5071 - val_accuracy: 0.7434\n",
            "Epoch 12/20\n",
            "64/64 [==============================] - 0s 2ms/step - loss: 0.4299 - accuracy: 0.8188 - val_loss: 0.5088 - val_accuracy: 0.7345\n",
            "Epoch 13/20\n",
            "64/64 [==============================] - 0s 2ms/step - loss: 0.4268 - accuracy: 0.8281 - val_loss: 0.5076 - val_accuracy: 0.7257\n",
            "Epoch 14/20\n",
            "64/64 [==============================] - 0s 3ms/step - loss: 0.4246 - accuracy: 0.8250 - val_loss: 0.5053 - val_accuracy: 0.7345\n",
            "Epoch 15/20\n",
            "64/64 [==============================] - 0s 3ms/step - loss: 0.4226 - accuracy: 0.8203 - val_loss: 0.5031 - val_accuracy: 0.7345\n",
            "Epoch 16/20\n",
            "64/64 [==============================] - 0s 2ms/step - loss: 0.4199 - accuracy: 0.8281 - val_loss: 0.5017 - val_accuracy: 0.7522\n",
            "Epoch 17/20\n",
            "64/64 [==============================] - 0s 2ms/step - loss: 0.4190 - accuracy: 0.8297 - val_loss: 0.5013 - val_accuracy: 0.7434\n",
            "Epoch 18/20\n",
            "64/64 [==============================] - 0s 2ms/step - loss: 0.4162 - accuracy: 0.8266 - val_loss: 0.5029 - val_accuracy: 0.7434\n",
            "Epoch 19/20\n",
            "64/64 [==============================] - 0s 2ms/step - loss: 0.4147 - accuracy: 0.8313 - val_loss: 0.5022 - val_accuracy: 0.7522\n",
            "Epoch 20/20\n",
            "64/64 [==============================] - 0s 2ms/step - loss: 0.4124 - accuracy: 0.8281 - val_loss: 0.5006 - val_accuracy: 0.7611\n"
          ]
        }
      ],
      "source": [
        "# Train the Model\n",
        "\n",
        "%time\n",
        "history_seq = model_sequential.fit(X_train,\n",
        "                                   y_train,\n",
        "                                   epochs=20,\n",
        "                                   validation_data=(X_val, y_val),\n",
        "                                   batch_size=10)"
      ]
    },
    {
      "cell_type": "markdown",
      "metadata": {
        "id": "E8nuiM75L0zm"
      },
      "source": [
        "## 5.3 - Model Evaluation"
      ]
    },
    {
      "cell_type": "code",
      "execution_count": 19,
      "metadata": {
        "colab": {
          "base_uri": "https://localhost:8080/",
          "height": 677
        },
        "id": "m9q1AmdoL38M",
        "outputId": "1cacbfea-6668-4ddb-dd92-b358777ac8e8"
      },
      "outputs": [
        {
          "data": {
            "text/html": [
              "<div>\n",
              "<style scoped>\n",
              "    .dataframe tbody tr th:only-of-type {\n",
              "        vertical-align: middle;\n",
              "    }\n",
              "\n",
              "    .dataframe tbody tr th {\n",
              "        vertical-align: top;\n",
              "    }\n",
              "\n",
              "    .dataframe thead th {\n",
              "        text-align: right;\n",
              "    }\n",
              "</style>\n",
              "<table border=\"1\" class=\"dataframe\">\n",
              "  <thead>\n",
              "    <tr style=\"text-align: right;\">\n",
              "      <th></th>\n",
              "      <th>loss</th>\n",
              "      <th>accuracy</th>\n",
              "      <th>val_loss</th>\n",
              "      <th>val_accuracy</th>\n",
              "    </tr>\n",
              "  </thead>\n",
              "  <tbody>\n",
              "    <tr>\n",
              "      <th>0</th>\n",
              "      <td>0.659626</td>\n",
              "      <td>0.629687</td>\n",
              "      <td>0.582891</td>\n",
              "      <td>0.734513</td>\n",
              "    </tr>\n",
              "    <tr>\n",
              "      <th>1</th>\n",
              "      <td>0.575766</td>\n",
              "      <td>0.726562</td>\n",
              "      <td>0.535174</td>\n",
              "      <td>0.787611</td>\n",
              "    </tr>\n",
              "    <tr>\n",
              "      <th>2</th>\n",
              "      <td>0.528512</td>\n",
              "      <td>0.753125</td>\n",
              "      <td>0.517204</td>\n",
              "      <td>0.769912</td>\n",
              "    </tr>\n",
              "    <tr>\n",
              "      <th>3</th>\n",
              "      <td>0.498910</td>\n",
              "      <td>0.781250</td>\n",
              "      <td>0.510312</td>\n",
              "      <td>0.761062</td>\n",
              "    </tr>\n",
              "    <tr>\n",
              "      <th>4</th>\n",
              "      <td>0.477231</td>\n",
              "      <td>0.795313</td>\n",
              "      <td>0.511098</td>\n",
              "      <td>0.734513</td>\n",
              "    </tr>\n",
              "    <tr>\n",
              "      <th>5</th>\n",
              "      <td>0.463448</td>\n",
              "      <td>0.803125</td>\n",
              "      <td>0.513516</td>\n",
              "      <td>0.734513</td>\n",
              "    </tr>\n",
              "    <tr>\n",
              "      <th>6</th>\n",
              "      <td>0.454717</td>\n",
              "      <td>0.809375</td>\n",
              "      <td>0.516127</td>\n",
              "      <td>0.734513</td>\n",
              "    </tr>\n",
              "    <tr>\n",
              "      <th>7</th>\n",
              "      <td>0.448389</td>\n",
              "      <td>0.810938</td>\n",
              "      <td>0.513304</td>\n",
              "      <td>0.734513</td>\n",
              "    </tr>\n",
              "    <tr>\n",
              "      <th>8</th>\n",
              "      <td>0.443033</td>\n",
              "      <td>0.814062</td>\n",
              "      <td>0.509286</td>\n",
              "      <td>0.734513</td>\n",
              "    </tr>\n",
              "    <tr>\n",
              "      <th>9</th>\n",
              "      <td>0.437673</td>\n",
              "      <td>0.814062</td>\n",
              "      <td>0.508899</td>\n",
              "      <td>0.734513</td>\n",
              "    </tr>\n",
              "    <tr>\n",
              "      <th>10</th>\n",
              "      <td>0.434642</td>\n",
              "      <td>0.820312</td>\n",
              "      <td>0.507099</td>\n",
              "      <td>0.743363</td>\n",
              "    </tr>\n",
              "    <tr>\n",
              "      <th>11</th>\n",
              "      <td>0.429867</td>\n",
              "      <td>0.818750</td>\n",
              "      <td>0.508789</td>\n",
              "      <td>0.734513</td>\n",
              "    </tr>\n",
              "    <tr>\n",
              "      <th>12</th>\n",
              "      <td>0.426803</td>\n",
              "      <td>0.828125</td>\n",
              "      <td>0.507615</td>\n",
              "      <td>0.725664</td>\n",
              "    </tr>\n",
              "    <tr>\n",
              "      <th>13</th>\n",
              "      <td>0.424612</td>\n",
              "      <td>0.825000</td>\n",
              "      <td>0.505314</td>\n",
              "      <td>0.734513</td>\n",
              "    </tr>\n",
              "    <tr>\n",
              "      <th>14</th>\n",
              "      <td>0.422617</td>\n",
              "      <td>0.820312</td>\n",
              "      <td>0.503090</td>\n",
              "      <td>0.734513</td>\n",
              "    </tr>\n",
              "    <tr>\n",
              "      <th>15</th>\n",
              "      <td>0.419919</td>\n",
              "      <td>0.828125</td>\n",
              "      <td>0.501686</td>\n",
              "      <td>0.752212</td>\n",
              "    </tr>\n",
              "    <tr>\n",
              "      <th>16</th>\n",
              "      <td>0.418958</td>\n",
              "      <td>0.829687</td>\n",
              "      <td>0.501298</td>\n",
              "      <td>0.743363</td>\n",
              "    </tr>\n",
              "    <tr>\n",
              "      <th>17</th>\n",
              "      <td>0.416153</td>\n",
              "      <td>0.826563</td>\n",
              "      <td>0.502917</td>\n",
              "      <td>0.743363</td>\n",
              "    </tr>\n",
              "    <tr>\n",
              "      <th>18</th>\n",
              "      <td>0.414652</td>\n",
              "      <td>0.831250</td>\n",
              "      <td>0.502247</td>\n",
              "      <td>0.752212</td>\n",
              "    </tr>\n",
              "    <tr>\n",
              "      <th>19</th>\n",
              "      <td>0.412436</td>\n",
              "      <td>0.828125</td>\n",
              "      <td>0.500640</td>\n",
              "      <td>0.761062</td>\n",
              "    </tr>\n",
              "  </tbody>\n",
              "</table>\n",
              "</div>"
            ],
            "text/plain": [
              "        loss  accuracy  val_loss  val_accuracy\n",
              "0   0.659626  0.629687  0.582891      0.734513\n",
              "1   0.575766  0.726562  0.535174      0.787611\n",
              "2   0.528512  0.753125  0.517204      0.769912\n",
              "3   0.498910  0.781250  0.510312      0.761062\n",
              "4   0.477231  0.795313  0.511098      0.734513\n",
              "5   0.463448  0.803125  0.513516      0.734513\n",
              "6   0.454717  0.809375  0.516127      0.734513\n",
              "7   0.448389  0.810938  0.513304      0.734513\n",
              "8   0.443033  0.814062  0.509286      0.734513\n",
              "9   0.437673  0.814062  0.508899      0.734513\n",
              "10  0.434642  0.820312  0.507099      0.743363\n",
              "11  0.429867  0.818750  0.508789      0.734513\n",
              "12  0.426803  0.828125  0.507615      0.725664\n",
              "13  0.424612  0.825000  0.505314      0.734513\n",
              "14  0.422617  0.820312  0.503090      0.734513\n",
              "15  0.419919  0.828125  0.501686      0.752212\n",
              "16  0.418958  0.829687  0.501298      0.743363\n",
              "17  0.416153  0.826563  0.502917      0.743363\n",
              "18  0.414652  0.831250  0.502247      0.752212\n",
              "19  0.412436  0.828125  0.500640      0.761062"
            ]
          },
          "execution_count": 19,
          "metadata": {},
          "output_type": "execute_result"
        }
      ],
      "source": [
        "# Create DataFrame\n",
        "\n",
        "history_seq_df = pd.DataFrame(history_seq.history)\n",
        "history_seq_df"
      ]
    },
    {
      "cell_type": "code",
      "execution_count": 20,
      "metadata": {
        "colab": {
          "base_uri": "https://localhost:8080/",
          "height": 447
        },
        "id": "0P8PKnrNMT2J",
        "outputId": "6b6a86ec-d745-4982-c854-8be1d076da12"
      },
      "outputs": [
        {
          "data": {
            "text/plain": [
              "<Axes: >"
            ]
          },
          "execution_count": 20,
          "metadata": {},
          "output_type": "execute_result"
        },
        {
          "data": {
            "image/png": "[encoded data removed]",
            "text/plain": [
              "<Figure size 640x480 with 1 Axes>"
            ]
          },
          "metadata": {},
          "output_type": "display_data"
        }
      ],
      "source": [
        "# Plot between accuracy and val_accuracy\n",
        "\n",
        "history_seq_df[['accuracy', 'val_accuracy']].plot()"
      ]
    },
    {
      "cell_type": "code",
      "execution_count": 21,
      "metadata": {
        "colab": {
          "base_uri": "https://localhost:8080/",
          "height": 447
        },
        "id": "i8WU48EqNIO_",
        "outputId": "ce95126e-a671-4878-8830-ef9625b8cf85"
      },
      "outputs": [
        {
          "data": {
            "text/plain": [
              "<Axes: >"
            ]
          },
          "execution_count": 21,
          "metadata": {},
          "output_type": "execute_result"
        },
        {
          "data": {
            "image/png": "[encoded data removed]",
            "text/plain": [
              "<Figure size 640x480 with 1 Axes>"
            ]
          },
          "metadata": {},
          "output_type": "display_data"
        }
      ],
      "source": [
        "# Plot between loss and val_loss\n",
        "\n",
        "history_seq_df[['loss', 'val_loss']].plot()"
      ]
    },
    {
      "cell_type": "code",
      "execution_count": 22,
      "metadata": {
        "colab": {
          "base_uri": "https://localhost:8080/"
        },
        "id": "l6G2vwQHPMJm",
        "outputId": "4715a4e1-e19a-4b89-99d5-63ee8a3888b8"
      },
      "outputs": [
        {
          "name": "stdout",
          "output_type": "stream",
          "text": [
            "5/5 [==============================] - 0s 2ms/step\n",
            "              precision    recall  f1-score   support\n",
            "\n",
            "           0       0.87      0.85      0.86        84\n",
            "           1       0.75      0.78      0.76        49\n",
            "\n",
            "    accuracy                           0.82       133\n",
            "   macro avg       0.81      0.81      0.81       133\n",
            "weighted avg       0.82      0.82      0.82       133\n",
            "\n"
          ]
        }
      ],
      "source": [
        "# Model Evaluation\n",
        "\n",
        "from sklearn.metrics import classification_report\n",
        "\n",
        "y_pred_seq = model_sequential.predict(X_test)\n",
        "y_pred_seq = np.where(y_pred_seq >=0.5, 1, 0)\n",
        "\n",
        "print(classification_report(y_test, y_pred_seq))"
      ]
    },
    {
      "cell_type": "markdown",
      "metadata": {
        "id": "Txpi335vP1E9"
      },
      "source": [
        "# 6 - Functional API"
      ]
    },
    {
      "cell_type": "markdown",
      "metadata": {
        "id": "pF3xYThkQYwX"
      },
      "source": [
        "## 6.1 - Model Definition"
      ]
    },
    {
      "cell_type": "code",
      "execution_count": 23,
      "metadata": {
        "colab": {
          "base_uri": "https://localhost:8080/"
        },
        "id": "g8sdqVQVQJ5F",
        "outputId": "be9ec98b-04c6-4edd-8d03-7d9cf1d1da0b"
      },
      "outputs": [
        {
          "name": "stdout",
          "output_type": "stream",
          "text": [
            "Model: \"model\"\n",
            "__________________________________________________________________________________________________\n",
            " Layer (type)                Output Shape                 Param #   Connected to                  \n",
            "==================================================================================================\n",
            " input_1 (InputLayer)        [(None, 7)]                  0         []                            \n",
            "                                                                                                  \n",
            " dense_3 (Dense)             (None, 16)                   128       ['input_1[0][0]']             \n",
            "                                                                                                  \n",
            " dense_4 (Dense)             (None, 8)                    136       ['dense_3[0][0]']             \n",
            "                                                                                                  \n",
            " concatenate (Concatenate)   (None, 15)                   0         ['input_1[0][0]',             \n",
            "                                                                     'dense_4[0][0]']             \n",
            "                                                                                                  \n",
            " dense_5 (Dense)             (None, 1)                    16        ['concatenate[0][0]']         \n",
            "                                                                                                  \n",
            "==================================================================================================\n",
            "Total params: 280 (1.09 KB)\n",
            "Trainable params: 280 (1.09 KB)\n",
            "Non-trainable params: 0 (0.00 Byte)\n",
            "__________________________________________________________________________________________________\n"
          ]
        }
      ],
      "source": [
        "# Create Functional Model\n",
        "\n",
        "from tensorflow.keras.layers import Input, concatenate\n",
        "from tensorflow.keras import Model\n",
        "\n",
        "input_layer = Input(shape=(7,))\n",
        "hidden1_layer = Dense(16, activation='relu')(input_layer)\n",
        "hidden2_layer = Dense(8, activation='relu')(hidden1_layer)\n",
        "\n",
        "concat_layer = concatenate([input_layer, hidden2_layer])\n",
        "output_layer = Dense(1, activation='sigmoid')(concat_layer)\n",
        "\n",
        "model_functional = Model(inputs=input_layer, outputs=output_layer)\n",
        "\n",
        "# Compile\n",
        "model_functional.compile(loss='binary_crossentropy',\n",
        "                         optimizer='Adam',\n",
        "                         metrics=['accuracy'])\n",
        "\n",
        "model_functional.summary()"
      ]
    },
    {
      "cell_type": "code",
      "execution_count": 24,
      "metadata": {
        "colab": {
          "base_uri": "https://localhost:8080/",
          "height": 533
        },
        "id": "y0bR1abjRV9y",
        "outputId": "2ddfe12c-1287-4f4d-d21d-0d526db96971"
      },
      "outputs": [
        {
          "name": "stdout",
          "output_type": "stream",
          "text": [
            "You must install pydot (`pip install pydot`) and install graphviz (see instructions at https://graphviz.gitlab.io/download/) for plot_model to work.\n"
          ]
        }
      ],
      "source": [
        "# Plot Layers\n",
        "\n",
        "tf.keras.utils.plot_model(model_functional, show_shapes=True)"
      ]
    },
    {
      "cell_type": "markdown",
      "metadata": {
        "id": "kZ4J59d3SNHy"
      },
      "source": [
        "## 6.2 - Model Training"
      ]
    },
    {
      "cell_type": "code",
      "execution_count": 25,
      "metadata": {
        "colab": {
          "base_uri": "https://localhost:8080/"
        },
        "id": "TcIS2Oy8SPFw",
        "outputId": "002b33c9-5e35-431c-d01f-9ee91fb4fb62"
      },
      "outputs": [
        {
          "name": "stdout",
          "output_type": "stream",
          "text": [
            "CPU times: total: 0 ns\n",
            "Wall time: 0 ns\n",
            "Epoch 1/20\n",
            "64/64 [==============================] - 1s 5ms/step - loss: 0.6165 - accuracy: 0.6812 - val_loss: 0.5421 - val_accuracy: 0.7522\n",
            "Epoch 2/20\n",
            "64/64 [==============================] - 0s 2ms/step - loss: 0.5730 - accuracy: 0.7375 - val_loss: 0.5180 - val_accuracy: 0.8053\n",
            "Epoch 3/20\n",
            "64/64 [==============================] - 0s 2ms/step - loss: 0.5401 - accuracy: 0.7563 - val_loss: 0.5047 - val_accuracy: 0.7965\n",
            "Epoch 4/20\n",
            "64/64 [==============================] - 0s 2ms/step - loss: 0.5119 - accuracy: 0.7703 - val_loss: 0.4974 - val_accuracy: 0.8053\n",
            "Epoch 5/20\n",
            "64/64 [==============================] - 0s 2ms/step - loss: 0.4894 - accuracy: 0.7844 - val_loss: 0.4940 - val_accuracy: 0.7876\n",
            "Epoch 6/20\n",
            "64/64 [==============================] - 0s 2ms/step - loss: 0.4715 - accuracy: 0.7984 - val_loss: 0.4941 - val_accuracy: 0.7788\n",
            "Epoch 7/20\n",
            "64/64 [==============================] - 0s 2ms/step - loss: 0.4571 - accuracy: 0.8234 - val_loss: 0.4912 - val_accuracy: 0.7965\n",
            "Epoch 8/20\n",
            "64/64 [==============================] - 0s 2ms/step - loss: 0.4469 - accuracy: 0.8313 - val_loss: 0.4910 - val_accuracy: 0.7788\n",
            "Epoch 9/20\n",
            "64/64 [==============================] - 0s 3ms/step - loss: 0.4377 - accuracy: 0.8328 - val_loss: 0.4936 - val_accuracy: 0.7522\n",
            "Epoch 10/20\n",
            "64/64 [==============================] - 0s 2ms/step - loss: 0.4308 - accuracy: 0.8297 - val_loss: 0.4930 - val_accuracy: 0.7522\n",
            "Epoch 11/20\n",
            "64/64 [==============================] - 0s 3ms/step - loss: 0.4255 - accuracy: 0.8359 - val_loss: 0.4928 - val_accuracy: 0.7434\n",
            "Epoch 12/20\n",
            "64/64 [==============================] - 0s 3ms/step - loss: 0.4216 - accuracy: 0.8297 - val_loss: 0.4962 - val_accuracy: 0.7257\n",
            "Epoch 13/20\n",
            "64/64 [==============================] - 0s 2ms/step - loss: 0.4184 - accuracy: 0.8344 - val_loss: 0.5011 - val_accuracy: 0.7345\n",
            "Epoch 14/20\n",
            "64/64 [==============================] - 0s 2ms/step - loss: 0.4153 - accuracy: 0.8328 - val_loss: 0.5021 - val_accuracy: 0.7345\n",
            "Epoch 15/20\n",
            "64/64 [==============================] - 0s 3ms/step - loss: 0.4128 - accuracy: 0.8328 - val_loss: 0.5004 - val_accuracy: 0.7257\n",
            "Epoch 16/20\n",
            "64/64 [==============================] - 0s 2ms/step - loss: 0.4111 - accuracy: 0.8328 - val_loss: 0.5008 - val_accuracy: 0.7257\n",
            "Epoch 17/20\n",
            "64/64 [==============================] - 0s 3ms/step - loss: 0.4091 - accuracy: 0.8344 - val_loss: 0.5054 - val_accuracy: 0.7345\n",
            "Epoch 18/20\n",
            "64/64 [==============================] - 0s 2ms/step - loss: 0.4084 - accuracy: 0.8375 - val_loss: 0.5061 - val_accuracy: 0.7345\n",
            "Epoch 19/20\n",
            "64/64 [==============================] - 0s 2ms/step - loss: 0.4063 - accuracy: 0.8375 - val_loss: 0.5071 - val_accuracy: 0.7257\n",
            "Epoch 20/20\n",
            "64/64 [==============================] - 0s 2ms/step - loss: 0.4052 - accuracy: 0.8375 - val_loss: 0.5072 - val_accuracy: 0.7345\n"
          ]
        }
      ],
      "source": [
        "# Train the Model\n",
        "\n",
        "%time\n",
        "history_func = model_functional.fit(X_train,\n",
        "                                   y_train,\n",
        "                                   epochs=20,\n",
        "                                   validation_data=(X_val, y_val),\n",
        "                                   batch_size=10)"
      ]
    },
    {
      "cell_type": "markdown",
      "metadata": {
        "id": "aWw88_LyScO4"
      },
      "source": [
        "## 6.3 - Model Evaluation"
      ]
    },
    {
      "cell_type": "code",
      "execution_count": 26,
      "metadata": {
        "colab": {
          "base_uri": "https://localhost:8080/",
          "height": 677
        },
        "id": "MEsmyaWhSZXK",
        "outputId": "aaa7d9c1-cc5a-4e3e-e569-fffb875a5cdb"
      },
      "outputs": [
        {
          "data": {
            "text/html": [
              "<div>\n",
              "<style scoped>\n",
              "    .dataframe tbody tr th:only-of-type {\n",
              "        vertical-align: middle;\n",
              "    }\n",
              "\n",
              "    .dataframe tbody tr th {\n",
              "        vertical-align: top;\n",
              "    }\n",
              "\n",
              "    .dataframe thead th {\n",
              "        text-align: right;\n",
              "    }\n",
              "</style>\n",
              "<table border=\"1\" class=\"dataframe\">\n",
              "  <thead>\n",
              "    <tr style=\"text-align: right;\">\n",
              "      <th></th>\n",
              "      <th>loss</th>\n",
              "      <th>accuracy</th>\n",
              "      <th>val_loss</th>\n",
              "      <th>val_accuracy</th>\n",
              "    </tr>\n",
              "  </thead>\n",
              "  <tbody>\n",
              "    <tr>\n",
              "      <th>0</th>\n",
              "      <td>0.616526</td>\n",
              "      <td>0.681250</td>\n",
              "      <td>0.542111</td>\n",
              "      <td>0.752212</td>\n",
              "    </tr>\n",
              "    <tr>\n",
              "      <th>1</th>\n",
              "      <td>0.572953</td>\n",
              "      <td>0.737500</td>\n",
              "      <td>0.517983</td>\n",
              "      <td>0.805310</td>\n",
              "    </tr>\n",
              "    <tr>\n",
              "      <th>2</th>\n",
              "      <td>0.540087</td>\n",
              "      <td>0.756250</td>\n",
              "      <td>0.504682</td>\n",
              "      <td>0.796460</td>\n",
              "    </tr>\n",
              "    <tr>\n",
              "      <th>3</th>\n",
              "      <td>0.511934</td>\n",
              "      <td>0.770312</td>\n",
              "      <td>0.497405</td>\n",
              "      <td>0.805310</td>\n",
              "    </tr>\n",
              "    <tr>\n",
              "      <th>4</th>\n",
              "      <td>0.489368</td>\n",
              "      <td>0.784375</td>\n",
              "      <td>0.494026</td>\n",
              "      <td>0.787611</td>\n",
              "    </tr>\n",
              "    <tr>\n",
              "      <th>5</th>\n",
              "      <td>0.471548</td>\n",
              "      <td>0.798437</td>\n",
              "      <td>0.494087</td>\n",
              "      <td>0.778761</td>\n",
              "    </tr>\n",
              "    <tr>\n",
              "      <th>6</th>\n",
              "      <td>0.457081</td>\n",
              "      <td>0.823438</td>\n",
              "      <td>0.491180</td>\n",
              "      <td>0.796460</td>\n",
              "    </tr>\n",
              "    <tr>\n",
              "      <th>7</th>\n",
              "      <td>0.446858</td>\n",
              "      <td>0.831250</td>\n",
              "      <td>0.490962</td>\n",
              "      <td>0.778761</td>\n",
              "    </tr>\n",
              "    <tr>\n",
              "      <th>8</th>\n",
              "      <td>0.437692</td>\n",
              "      <td>0.832812</td>\n",
              "      <td>0.493581</td>\n",
              "      <td>0.752212</td>\n",
              "    </tr>\n",
              "    <tr>\n",
              "      <th>9</th>\n",
              "      <td>0.430773</td>\n",
              "      <td>0.829687</td>\n",
              "      <td>0.493009</td>\n",
              "      <td>0.752212</td>\n",
              "    </tr>\n",
              "    <tr>\n",
              "      <th>10</th>\n",
              "      <td>0.425550</td>\n",
              "      <td>0.835938</td>\n",
              "      <td>0.492772</td>\n",
              "      <td>0.743363</td>\n",
              "    </tr>\n",
              "    <tr>\n",
              "      <th>11</th>\n",
              "      <td>0.421573</td>\n",
              "      <td>0.829687</td>\n",
              "      <td>0.496191</td>\n",
              "      <td>0.725664</td>\n",
              "    </tr>\n",
              "    <tr>\n",
              "      <th>12</th>\n",
              "      <td>0.418373</td>\n",
              "      <td>0.834375</td>\n",
              "      <td>0.501094</td>\n",
              "      <td>0.734513</td>\n",
              "    </tr>\n",
              "    <tr>\n",
              "      <th>13</th>\n",
              "      <td>0.415285</td>\n",
              "      <td>0.832812</td>\n",
              "      <td>0.502079</td>\n",
              "      <td>0.734513</td>\n",
              "    </tr>\n",
              "    <tr>\n",
              "      <th>14</th>\n",
              "      <td>0.412757</td>\n",
              "      <td>0.832812</td>\n",
              "      <td>0.500352</td>\n",
              "      <td>0.725664</td>\n",
              "    </tr>\n",
              "    <tr>\n",
              "      <th>15</th>\n",
              "      <td>0.411067</td>\n",
              "      <td>0.832812</td>\n",
              "      <td>0.500799</td>\n",
              "      <td>0.725664</td>\n",
              "    </tr>\n",
              "    <tr>\n",
              "      <th>16</th>\n",
              "      <td>0.409149</td>\n",
              "      <td>0.834375</td>\n",
              "      <td>0.505431</td>\n",
              "      <td>0.734513</td>\n",
              "    </tr>\n",
              "    <tr>\n",
              "      <th>17</th>\n",
              "      <td>0.408389</td>\n",
              "      <td>0.837500</td>\n",
              "      <td>0.506084</td>\n",
              "      <td>0.734513</td>\n",
              "    </tr>\n",
              "    <tr>\n",
              "      <th>18</th>\n",
              "      <td>0.406280</td>\n",
              "      <td>0.837500</td>\n",
              "      <td>0.507063</td>\n",
              "      <td>0.725664</td>\n",
              "    </tr>\n",
              "    <tr>\n",
              "      <th>19</th>\n",
              "      <td>0.405151</td>\n",
              "      <td>0.837500</td>\n",
              "      <td>0.507203</td>\n",
              "      <td>0.734513</td>\n",
              "    </tr>\n",
              "  </tbody>\n",
              "</table>\n",
              "</div>"
            ],
            "text/plain": [
              "        loss  accuracy  val_loss  val_accuracy\n",
              "0   0.616526  0.681250  0.542111      0.752212\n",
              "1   0.572953  0.737500  0.517983      0.805310\n",
              "2   0.540087  0.756250  0.504682      0.796460\n",
              "3   0.511934  0.770312  0.497405      0.805310\n",
              "4   0.489368  0.784375  0.494026      0.787611\n",
              "5   0.471548  0.798437  0.494087      0.778761\n",
              "6   0.457081  0.823438  0.491180      0.796460\n",
              "7   0.446858  0.831250  0.490962      0.778761\n",
              "8   0.437692  0.832812  0.493581      0.752212\n",
              "9   0.430773  0.829687  0.493009      0.752212\n",
              "10  0.425550  0.835938  0.492772      0.743363\n",
              "11  0.421573  0.829687  0.496191      0.725664\n",
              "12  0.418373  0.834375  0.501094      0.734513\n",
              "13  0.415285  0.832812  0.502079      0.734513\n",
              "14  0.412757  0.832812  0.500352      0.725664\n",
              "15  0.411067  0.832812  0.500799      0.725664\n",
              "16  0.409149  0.834375  0.505431      0.734513\n",
              "17  0.408389  0.837500  0.506084      0.734513\n",
              "18  0.406280  0.837500  0.507063      0.725664\n",
              "19  0.405151  0.837500  0.507203      0.734513"
            ]
          },
          "execution_count": 26,
          "metadata": {},
          "output_type": "execute_result"
        }
      ],
      "source": [
        "# Create DataFrame\n",
        "\n",
        "history_functional_df = pd.DataFrame(history_func.history)\n",
        "history_functional_df"
      ]
    },
    {
      "cell_type": "code",
      "execution_count": 27,
      "metadata": {
        "colab": {
          "base_uri": "https://localhost:8080/",
          "height": 447
        },
        "id": "4cYNlmIsSpWj",
        "outputId": "b360398c-6275-49ce-cb0b-dbee4b4355a4"
      },
      "outputs": [
        {
          "data": {
            "text/plain": [
              "<Axes: >"
            ]
          },
          "execution_count": 27,
          "metadata": {},
          "output_type": "execute_result"
        },
        {
          "data": {
            "image/png": "[encoded data removed]",
            "text/plain": [
              "<Figure size 640x480 with 1 Axes>"
            ]
          },
          "metadata": {},
          "output_type": "display_data"
        }
      ],
      "source": [
        "# Plot between accuracy and val_accuracy\n",
        "\n",
        "history_functional_df[['accuracy', 'val_accuracy']].plot()"
      ]
    },
    {
      "cell_type": "code",
      "execution_count": 28,
      "metadata": {
        "colab": {
          "base_uri": "https://localhost:8080/",
          "height": 447
        },
        "id": "tt1WPDfxS6_g",
        "outputId": "ee83f864-5b92-417f-b18a-ff9c35428edf"
      },
      "outputs": [
        {
          "data": {
            "text/plain": [
              "<Axes: >"
            ]
          },
          "execution_count": 28,
          "metadata": {},
          "output_type": "execute_result"
        },
        {
          "data": {
            "image/png": "[encoded data removed]",
            "text/plain": [
              "<Figure size 640x480 with 1 Axes>"
            ]
          },
          "metadata": {},
          "output_type": "display_data"
        }
      ],
      "source": [
        "# Plot between loss and val_loss\n",
        "\n",
        "history_functional_df[['loss', 'val_loss']].plot()"
      ]
    },
    {
      "cell_type": "code",
      "execution_count": 29,
      "metadata": {
        "colab": {
          "base_uri": "https://localhost:8080/"
        },
        "id": "qIT8N32WTI6P",
        "outputId": "cae4bc70-1ee9-4956-e886-71c98390857f"
      },
      "outputs": [
        {
          "name": "stdout",
          "output_type": "stream",
          "text": [
            "5/5 [==============================] - 0s 2ms/step\n",
            "              precision    recall  f1-score   support\n",
            "\n",
            "           0       0.87      0.89      0.88        84\n",
            "           1       0.81      0.78      0.79        49\n",
            "\n",
            "    accuracy                           0.85       133\n",
            "   macro avg       0.84      0.83      0.84       133\n",
            "weighted avg       0.85      0.85      0.85       133\n",
            "\n"
          ]
        }
      ],
      "source": [
        "# Model Evaluation\n",
        "\n",
        "from sklearn.metrics import classification_report\n",
        "\n",
        "y_pred_func = model_functional.predict(X_test)\n",
        "y_pred_func = np.where(y_pred_func >=0.5, 1, 0)\n",
        "\n",
        "print(classification_report(y_test, y_pred_func))"
      ]
    },
    {
      "cell_type": "markdown",
      "metadata": {
        "id": "uXNnhzlJTjRg"
      },
      "source": [
        "# 7 - Model Saving"
      ]
    },
    {
      "cell_type": "code",
      "execution_count": 30,
      "metadata": {
        "id": "qZ-2L8d7Tlru"
      },
      "outputs": [],
      "source": [
        "# Save Pipeline\n",
        "\n",
        "with open('final_pipeline.pkl', 'wb') as file_1:\n",
        "  joblib.dump(final_pipeline, file_1)"
      ]
    },
    {
      "cell_type": "code",
      "execution_count": 31,
      "metadata": {
        "colab": {
          "base_uri": "https://localhost:8080/"
        },
        "id": "H6nR9KhaTuXM",
        "outputId": "4a05ea20-ffb3-4b01-e74c-64753f18c6bd"
      },
      "outputs": [
        {
          "name": "stdout",
          "output_type": "stream",
          "text": [
            "Model: \"sequential\"\n",
            "_________________________________________________________________\n",
            " Layer (type)                Output Shape              Param #   \n",
            "=================================================================\n",
            " dense (Dense)               (None, 16)                128       \n",
            "                                                                 \n",
            " dense_1 (Dense)             (None, 8)                 136       \n",
            "                                                                 \n",
            " dense_2 (Dense)             (None, 1)                 9         \n",
            "                                                                 \n",
            "=================================================================\n",
            "Total params: 273 (1.07 KB)\n",
            "Trainable params: 273 (1.07 KB)\n",
            "Non-trainable params: 0 (0.00 Byte)\n",
            "_________________________________________________________________\n"
          ]
        }
      ],
      "source": [
        "# Summary of Model Sequential\n",
        "\n",
        "model_sequential.summary()"
      ]
    },
    {
      "cell_type": "code",
      "execution_count": 32,
      "metadata": {
        "colab": {
          "base_uri": "https://localhost:8080/"
        },
        "id": "sHrMMiI7T3Ri",
        "outputId": "32d12ebd-fad5-469f-d999-d83cf8dc64eb"
      },
      "outputs": [
        {
          "name": "stdout",
          "output_type": "stream",
          "text": [
            "Model: \"sequential\"\n",
            "_________________________________________________________________\n",
            " Layer (type)                Output Shape              Param #   \n",
            "=================================================================\n",
            " dense (Dense)               (None, 16)                128       \n",
            "                                                                 \n",
            " dense_1 (Dense)             (None, 8)                 136       \n",
            "                                                                 \n",
            " dense_2 (Dense)             (None, 1)                 9         \n",
            "                                                                 \n",
            "=================================================================\n",
            "Total params: 273 (1.07 KB)\n",
            "Trainable params: 0 (0.00 Byte)\n",
            "Non-trainable params: 273 (1.07 KB)\n",
            "_________________________________________________________________\n"
          ]
        }
      ],
      "source": [
        "# Freeze Model\n",
        "\n",
        "model_sequential.trainable = False\n",
        "model_sequential.summary()"
      ]
    },
    {
      "cell_type": "code",
      "execution_count": 33,
      "metadata": {
        "id": "2Ch1DA3OUCB0"
      },
      "outputs": [
        {
          "name": "stderr",
          "output_type": "stream",
          "text": [
            "C:\\Users\\wSatrian\\AppData\\Roaming\\Python\\Python310\\site-packages\\keras\\src\\engine\\training.py:3000: UserWarning: You are saving your model as an HDF5 file via `model.save()`. This file format is considered legacy. We recommend using instead the native Keras format, e.g. `model.save('my_model.keras')`.\n",
            "  saving_api.save_model(\n"
          ]
        }
      ],
      "source": [
        "# Save ANN Model\n",
        "\n",
        "model_sequential.save('titanic_model.h5')"
      ]
    },
    {
      "cell_type": "markdown",
      "metadata": {
        "id": "quORMXCxUPva"
      },
      "source": [
        "# 8 - Model Inference"
      ]
    },
    {
      "cell_type": "code",
      "execution_count": 34,
      "metadata": {
        "id": "u7AV3DWKUTIz"
      },
      "outputs": [],
      "source": [
        "# Load The Models\n",
        "\n",
        "with open('final_pipeline.pkl', 'rb') as file_1:\n",
        "  model_pipeline = joblib.load(file_1)\n",
        "\n",
        "from tensorflow.keras.models import load_model\n",
        "model_ann = load_model('titanic_model.h5')"
      ]
    },
    {
      "cell_type": "code",
      "execution_count": 35,
      "metadata": {
        "colab": {
          "base_uri": "https://localhost:8080/"
        },
        "id": "rVPnH2hzUoFz",
        "outputId": "cb8ac5f6-7961-4ae0-ed02-21706ac1d391"
      },
      "outputs": [
        {
          "data": {
            "text/plain": [
              "array([[ 0.85858734, -0.59345635, -0.48794103, -0.49246397, -0.4728609 ,\n",
              "         0.        ,  1.        ],\n",
              "       [-1.54620871,  0.88962837,  0.44984353, -0.49246397,  0.35585768,\n",
              "         0.        ,  1.        ],\n",
              "       [ 0.85858734, -0.59345635, -0.48794103, -0.49246397, -0.47471659,\n",
              "         0.        ,  1.        ],\n",
              "       [-1.54620871,  0.51885719, -0.48794103,  0.72443541, -0.06824395,\n",
              "         0.        ,  1.        ],\n",
              "       [-1.54620871,  1.5570165 , -0.48794103,  0.72443541,  0.51962175,\n",
              "         0.        ,  1.        ]])"
            ]
          },
          "execution_count": 35,
          "metadata": {},
          "output_type": "execute_result"
        }
      ],
      "source": [
        "# Transform Inference-Set\n",
        "\n",
        "data_inf_transform = model_pipeline.transform(data_inf)\n",
        "data_inf_transform"
      ]
    },
    {
      "cell_type": "code",
      "execution_count": 36,
      "metadata": {
        "colab": {
          "base_uri": "https://localhost:8080/"
        },
        "id": "5Rh8vf8mU30j",
        "outputId": "631e9170-3743-4e79-8beb-98fdb1ff07e6"
      },
      "outputs": [
        {
          "name": "stdout",
          "output_type": "stream",
          "text": [
            "1/1 [==============================] - 0s 86ms/step\n"
          ]
        },
        {
          "data": {
            "text/plain": [
              "array([[0],\n",
              "       [0],\n",
              "       [0],\n",
              "       [0],\n",
              "       [0]])"
            ]
          },
          "execution_count": 36,
          "metadata": {},
          "output_type": "execute_result"
        }
      ],
      "source": [
        "# Predict using Neural Network\n",
        "\n",
        "y_pred_inf = model_ann.predict(data_inf_transform)\n",
        "y_pred_inf = np.where(y_pred_inf >= 0.5, 1, 0)\n",
        "y_pred_inf"
      ]
    },
    {
      "cell_type": "code",
      "execution_count": 37,
      "metadata": {
        "colab": {
          "base_uri": "https://localhost:8080/"
        },
        "id": "gKQhZWwNvLce",
        "outputId": "5b94c107-4666-48e3-ee34-cde9d44878c5"
      },
      "outputs": [
        {
          "name": "stdout",
          "output_type": "stream",
          "text": [
            "1.3.0\n",
            "1.3.1\n"
          ]
        }
      ],
      "source": [
        "import sklearn\n",
        "print(sklearn.__version__)\n",
        "print(joblib.__version__)"
      ]
    },
    {
      "cell_type": "code",
      "execution_count": 38,
      "metadata": {
        "id": "h0iux1hgss6P"
      },
      "outputs": [],
      "source": [
        "# !pip install --upgrade tensorflow==2.4.1\n",
        "# !pip install --upgrade scikit-learn==1.1.3\n",
        "# !pip install --upgrade joblib==1.1.1"
      ]
    }
  ],
  "metadata": {
    "colab": {
      "collapsed_sections": [
        "dVjc4_URBTsk",
        "vtrlbiHJCWcd",
        "AA2wCr8dC2pU",
        "CPeqKofcE8ov",
        "tt7-B8dZIy3R",
        "E8nuiM75L0zm",
        "pF3xYThkQYwX",
        "kZ4J59d3SNHy",
        "aWw88_LyScO4"
      ],
      "provenance": []
    },
    "kernelspec": {
      "display_name": "Python 3",
      "name": "python3"
    },
    "language_info": {
      "codemirror_mode": {
        "name": "ipython",
        "version": 3
      },
      "file_extension": ".py",
      "mimetype": "text/x-python",
      "name": "python",
      "nbconvert_exporter": "python",
      "pygments_lexer": "ipython3",
      "version": "3.10.11"
    }
  },
  "nbformat": 4,
  "nbformat_minor": 0
}
